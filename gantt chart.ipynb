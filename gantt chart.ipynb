{
 "cells": [
  {
   "cell_type": "code",
   "execution_count": 80,
   "metadata": {},
   "outputs": [],
   "source": [
    "import matplotlib\n",
    "import pandas as pd\n",
    "import numpy as np\n",
    "import matplotlib.pyplot as plt\n",
    "import datetime as dt"
   ]
  },
  {
   "cell_type": "code",
   "execution_count": 81,
   "metadata": {},
   "outputs": [
    {
     "name": "stdout",
     "output_type": "stream",
     "text": [
      "                                    item                      start        end\n",
      "0                Deliverable 1: Proposal 2025-01-31 00:40:26.817856 2025-02-02\n",
      "1            Deliverable 2: Requirements 2025-01-31 00:40:26.817884 2025-02-24\n",
      "2    Deliverable 3: Phase 1, Boilerplate 2025-01-31 00:40:26.817886 2025-03-17\n",
      "3                 Deliverable 4: Phase 2 2025-03-17 00:00:00.000000 2025-04-07\n",
      "4  Deliverable 5: Phase 3, Final Product 2025-04-07 00:00:00.000000 2025-04-28\n"
     ]
    }
   ],
   "source": [
    "df = pd.DataFrame({'item': ['Deliverable 1: Proposal','Deliverable 2: Requirements', 'Deliverable 3: Phase 1, Boilerplate', 'Deliverable 4: Phase 2', 'Deliverable 5: Phase 3, Final Product'],\n",
    "                  \n",
    "                  'start': pd.to_datetime(['today', 'today', 'today', '17 March 2025', '07 April 2025']),\n",
    "                  \n",
    "                 'end': pd.to_datetime(['02 Feb 2025', '24 Feb 2025', '17 March 2025', '07 April 2025', '28 April 2025'])})\n",
    "print(df)"
   ]
  },
  {
   "cell_type": "code",
   "execution_count": 82,
   "metadata": {},
   "outputs": [],
   "source": [
    "df['task_duration'] = (df['end'] - df['start']).dt.days + 1 # to include also the end date"
   ]
  },
  {
   "cell_type": "code",
   "execution_count": 83,
   "metadata": {},
   "outputs": [
    {
     "name": "stdout",
     "output_type": "stream",
     "text": [
      "                                    item                      start  \\\n",
      "0                Deliverable 1: Proposal 2025-01-31 00:40:26.817856   \n",
      "1            Deliverable 2: Requirements 2025-01-31 00:40:26.817884   \n",
      "2    Deliverable 3: Phase 1, Boilerplate 2025-01-31 00:40:26.817886   \n",
      "3                 Deliverable 4: Phase 2 2025-03-17 00:00:00.000000   \n",
      "4  Deliverable 5: Phase 3, Final Product 2025-04-07 00:00:00.000000   \n",
      "\n",
      "         end  task_duration  \n",
      "0 2025-02-02              2  \n",
      "1 2025-02-24             24  \n",
      "2 2025-03-17             45  \n",
      "3 2025-04-07             22  \n",
      "4 2025-04-28             22  \n"
     ]
    }
   ],
   "source": [
    "print(df)\n"
   ]
  },
  {
   "cell_type": "raw",
   "metadata": {},
   "source": []
  },
  {
   "cell_type": "code",
   "execution_count": 84,
   "metadata": {},
   "outputs": [],
   "source": [
    "df['days_to_start'] = (df['start'] - df['start'].min()).dt.days"
   ]
  },
  {
   "cell_type": "code",
   "execution_count": 85,
   "metadata": {},
   "outputs": [
    {
     "name": "stdout",
     "output_type": "stream",
     "text": [
      "                                    item                      start  \\\n",
      "0                Deliverable 1: Proposal 2025-01-31 00:40:26.817856   \n",
      "1            Deliverable 2: Requirements 2025-01-31 00:40:26.817884   \n",
      "2    Deliverable 3: Phase 1, Boilerplate 2025-01-31 00:40:26.817886   \n",
      "3                 Deliverable 4: Phase 2 2025-03-17 00:00:00.000000   \n",
      "4  Deliverable 5: Phase 3, Final Product 2025-04-07 00:00:00.000000   \n",
      "\n",
      "         end  task_duration  days_to_start  \n",
      "0 2025-02-02              2              0  \n",
      "1 2025-02-24             24              0  \n",
      "2 2025-03-17             45              0  \n",
      "3 2025-04-07             22             44  \n",
      "4 2025-04-28             22             65  \n"
     ]
    }
   ],
   "source": [
    "print(df)"
   ]
  },
  {
   "cell_type": "code",
   "execution_count": 86,
   "metadata": {},
   "outputs": [
    {
     "data": {
      "image/png": "[encoded data removed]",
      "text/plain": [
       "<Figure size 432x288 with 1 Axes>"
      ]
     },
     "metadata": {
      "needs_background": "light"
     },
     "output_type": "display_data"
    }
   ],
   "source": [
    "plt.barh(y=df['item'], width=df['task_duration'], left=df['days_to_start'])\n",
    "plt.show()"
   ]
  },
  {
   "cell_type": "code",
   "execution_count": null,
   "metadata": {},
   "outputs": [],
   "source": []
  }
 ],
 "metadata": {
  "kernelspec": {
   "display_name": "Python 3 (ipykernel)",
   "language": "python",
   "name": "python3"
  },
  "language_info": {
   "codemirror_mode": {
    "name": "ipython",
    "version": 3
   },
   "file_extension": ".py",
   "mimetype": "text/x-python",
   "name": "python",
   "nbconvert_exporter": "python",
   "pygments_lexer": "ipython3",
   "version": "3.7.6"
  }
 },
 "nbformat": 4,
 "nbformat_minor": 4
}
